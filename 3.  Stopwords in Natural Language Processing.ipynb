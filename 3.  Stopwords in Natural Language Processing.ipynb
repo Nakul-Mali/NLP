{
 "cells": [
  {
   "cell_type": "code",
   "execution_count": 2,
   "metadata": {},
   "outputs": [],
   "source": [
    "import spacy \n",
    "import en_core_web_sm"
   ]
  },
  {
   "cell_type": "code",
   "execution_count": 3,
   "metadata": {},
   "outputs": [],
   "source": [
    "nlp = en_core_web_sm.load() "
   ]
  },
  {
   "cell_type": "code",
   "execution_count": 4,
   "metadata": {},
   "outputs": [],
   "source": [
    "import nltk"
   ]
  },
  {
   "cell_type": "code",
   "execution_count": 5,
   "metadata": {},
   "outputs": [
    {
     "name": "stderr",
     "output_type": "stream",
     "text": [
      "[nltk_data] Downloading package stopwords to C:\\Users\\Nakul\n",
      "[nltk_data]     Raje\\AppData\\Roaming\\nltk_data...\n",
      "[nltk_data]   Package stopwords is already up-to-date!\n"
     ]
    },
    {
     "data": {
      "text/plain": [
       "True"
      ]
     },
     "execution_count": 5,
     "metadata": {},
     "output_type": "execute_result"
    }
   ],
   "source": [
    "nltk.download('stopwords') "
   ]
  },
  {
   "cell_type": "markdown",
   "metadata": {},
   "source": [
    "#### Printing the set of Spacy's default Stop words "
   ]
  },
  {
   "cell_type": "markdown",
   "metadata": {},
   "source": [
    "Remember the set are Unordered "
   ]
  },
  {
   "cell_type": "code",
   "execution_count": 6,
   "metadata": {},
   "outputs": [
    {
     "name": "stdout",
     "output_type": "stream",
     "text": [
      "{'would', 'whereby', 'formerly', 'then', 'becomes', 'under', 'me', 'was', 'be', 'two', 'before', 'therefore', 'whose', 'been', 'get', 'some', 'hereupon', 'wherever', 'either', 'say', 'without', 'and', 'its', 'beyond', 'whatever', 'keep', 'below', 'made', 'wherein', 'few', 'after', 'this', 'together', 'noone', 'latterly', 'until', 'even', 'nine', 'of', 'since', 'whole', 'around', 'something', 'while', \"n't\", 'who', 'moreover', 'sixty', 'full', 'serious', '‘re', 'latter', 'than', 'he', 'how', 'many', 'through', 'as', 'when', 'myself', \"'re\", 'whoever', '‘d', 'beside', '‘m', 'not', 'ours', 'yourselves', 'third', 'nothing', 'put', 'make', 'him', 'show', 'more', 'whenever', 'everything', 'must', 'see', 'hereafter', 'mine', 'everyone', 'these', 'my', 'might', 'neither', 'front', 'here', 'ten', 'out', 'former', 'is', 'amount', \"'s\", 'one', 'otherwise', 'have', 'alone', 'or', 'used', 'always', \"'d\", 'top', 'they', 'we', 'a', 'several', 'whereafter', 'just', 'five', 'there', 'above', 'eleven', 'via', 'much', 'rather', 'whom', 'afterwards', 'everywhere', 'therein', 'only', 'to', '‘s', 'once', 'never', 'behind', 'sometimes', 'against', 'well', 'eight', 'become', 'had', 'thereupon', 'move', 'first', 'that', 'became', 'on', 'seeming', 'amongst', 'name', 'please', 'all', 'enough', 'hundred', 'twenty', 'whence', 'six', 'has', 'with', 'from', 'if', 'hereby', 'done', 'whereupon', 'the', 'somehow', 'about', 'into', 'itself', 'down', 'did', 'because', 'thence', 'among', 'by', 'twelve', \"'ll\", 'do', 'often', 'being', 'herein', 'call', 'such', 'any', 'almost', 'their', 'although', 'but', 'in', 'us', 'none', 'am', '’re', 'hence', 'nowhere', 'indeed', 'hers', '’s', 'others', 'may', 'n‘t', 'them', 'where', 'you', 'back', 'using', 'anyhow', 'side', 'anyway', 'her', 'bottom', 'his', 'anyone', 'upon', 'four', 'however', 'seem', 'namely', 'another', 'nevertheless', 'anything', 'nor', '‘ll', 'thru', 'i', 'seems', 'thereby', '’d', 'over', 'between', 'at', 'per', 'thus', '’m', 'already', 'should', 'own', 'mostly', 'doing', 'each', 'same', 'also', 'except', '‘ve', 'beforehand', 'off', 'toward', 'our', \"'ve\", 'what', 'least', 'really', 'up', 'whither', 'both', 'unless', '’ll', 'will', 'nobody', 'n’t', 'it', \"'m\", 'part', 'cannot', 'does', 'whereas', 'fifteen', 'can', 'along', 'she', 'your', 'various', 'last', 'take', 'most', 'fifty', 'those', 'an', 'due', 'ever', 'further', 'someone', 'again', 'throughout', 'yet', 'could', 'give', 'themselves', 'thereafter', 'for', 'himself', 'so', 'ourselves', 'regarding', 'elsewhere', 'across', 'else', 'why', 'too', 'every', 'now', '’ve', 're', 'somewhere', 'still', 'very', 'though', 'seemed', 'during', 'empty', 'were', 'besides', 'herself', 'are', 'sometime', 'other', 'next', 'towards', 'meanwhile', 'forty', 'no', 'go', 'three', 'which', 'yourself', 'quite', 'perhaps', 'within', 'becoming', 'yours', 'ca', 'anywhere', 'whether', 'onto', 'less'}\n"
     ]
    }
   ],
   "source": [
    "print(nlp.Defaults.stop_words) "
   ]
  },
  {
   "cell_type": "code",
   "execution_count": 8,
   "metadata": {},
   "outputs": [
    {
     "data": {
      "text/plain": [
       "326"
      ]
     },
     "execution_count": 8,
     "metadata": {},
     "output_type": "execute_result"
    }
   ],
   "source": [
    "len(nlp.Defaults.stop_words) "
   ]
  },
  {
   "cell_type": "markdown",
   "metadata": {},
   "source": [
    "#### To See Word is Stop Word or Not"
   ]
  },
  {
   "cell_type": "code",
   "execution_count": 10,
   "metadata": {},
   "outputs": [
    {
     "data": {
      "text/plain": [
       "True"
      ]
     },
     "execution_count": 10,
     "metadata": {},
     "output_type": "execute_result"
    }
   ],
   "source": [
    "nlp.vocab['myself'].is_stop "
   ]
  },
  {
   "cell_type": "code",
   "execution_count": 9,
   "metadata": {},
   "outputs": [
    {
     "data": {
      "text/plain": [
       "False"
      ]
     },
     "execution_count": 9,
     "metadata": {},
     "output_type": "execute_result"
    }
   ],
   "source": [
    "nlp.vocab['mystery'].is_stop "
   ]
  },
  {
   "cell_type": "markdown",
   "metadata": {},
   "source": [
    "#### Add the Word to the set of stop words. Use Lowercase! "
   ]
  },
  {
   "cell_type": "code",
   "execution_count": 11,
   "metadata": {},
   "outputs": [],
   "source": [
    "nlp.Defaults.stop_words.add('mystery') "
   ]
  },
  {
   "cell_type": "markdown",
   "metadata": {},
   "source": [
    "#### Set the stop word tag on the lexeme "
   ]
  },
  {
   "cell_type": "code",
   "execution_count": 12,
   "metadata": {},
   "outputs": [],
   "source": [
    "nlp.vocab['mystery'].is_stop = True "
   ]
  },
  {
   "cell_type": "markdown",
   "metadata": {},
   "source": [
    "#### Again cheking the length of Stop words because we added 'mystery' in the stopword set"
   ]
  },
  {
   "cell_type": "code",
   "execution_count": 13,
   "metadata": {},
   "outputs": [
    {
     "data": {
      "text/plain": [
       "327"
      ]
     },
     "execution_count": 13,
     "metadata": {},
     "output_type": "execute_result"
    }
   ],
   "source": [
    "len(nlp.Defaults.stop_words) "
   ]
  },
  {
   "cell_type": "code",
   "execution_count": 15,
   "metadata": {},
   "outputs": [
    {
     "data": {
      "text/plain": [
       "True"
      ]
     },
     "execution_count": 15,
     "metadata": {},
     "output_type": "execute_result"
    }
   ],
   "source": [
    "nlp.vocab['mystery'].is_stop "
   ]
  },
  {
   "cell_type": "markdown",
   "metadata": {},
   "source": [
    "#### If you want then you can remove the added stopwod from the set "
   ]
  },
  {
   "cell_type": "code",
   "execution_count": 16,
   "metadata": {},
   "outputs": [],
   "source": [
    "nlp.Defaults.stop_words.remove('mystery') "
   ]
  },
  {
   "cell_type": "markdown",
   "metadata": {},
   "source": [
    "#### Remove the Stopword tag from the lexima"
   ]
  },
  {
   "cell_type": "code",
   "execution_count": 18,
   "metadata": {},
   "outputs": [],
   "source": [
    "nlp.vocab['mystery'].is_stop = False "
   ]
  },
  {
   "cell_type": "markdown",
   "metadata": {},
   "source": [
    "#### Checking the removed word is in stopword set or not"
   ]
  },
  {
   "cell_type": "code",
   "execution_count": 19,
   "metadata": {},
   "outputs": [
    {
     "data": {
      "text/plain": [
       "False"
      ]
     },
     "execution_count": 19,
     "metadata": {},
     "output_type": "execute_result"
    }
   ],
   "source": [
    "nlp.vocab['mystery'].is_stop "
   ]
  },
  {
   "cell_type": "markdown",
   "metadata": {},
   "source": [
    "#### Again cheking the length of the stopword because we remove the added 'mystery' word from set"
   ]
  },
  {
   "cell_type": "code",
   "execution_count": 20,
   "metadata": {},
   "outputs": [
    {
     "data": {
      "text/plain": [
       "326"
      ]
     },
     "execution_count": 20,
     "metadata": {},
     "output_type": "execute_result"
    }
   ],
   "source": [
    "len(nlp.Defaults.stop_words) "
   ]
  },
  {
   "cell_type": "code",
   "execution_count": null,
   "metadata": {},
   "outputs": [],
   "source": []
  },
  {
   "cell_type": "code",
   "execution_count": 22,
   "metadata": {},
   "outputs": [],
   "source": [
    "import string \n",
    "import re "
   ]
  },
  {
   "cell_type": "code",
   "execution_count": 24,
   "metadata": {},
   "outputs": [
    {
     "name": "stderr",
     "output_type": "stream",
     "text": [
      "[nltk_data] Error loading Punkt: Package 'Punkt' not found in index\n"
     ]
    },
    {
     "data": {
      "text/plain": [
       "False"
      ]
     },
     "execution_count": 24,
     "metadata": {},
     "output_type": "execute_result"
    }
   ],
   "source": [
    "import nltk \n",
    "nltk.download('Punkt')"
   ]
  },
  {
   "cell_type": "code",
   "execution_count": null,
   "metadata": {},
   "outputs": [],
   "source": []
  }
 ],
 "metadata": {
  "kernelspec": {
   "display_name": "Python 3",
   "language": "python",
   "name": "python3"
  },
  "language_info": {
   "codemirror_mode": {
    "name": "ipython",
    "version": 3
   },
   "file_extension": ".py",
   "mimetype": "text/x-python",
   "name": "python",
   "nbconvert_exporter": "python",
   "pygments_lexer": "ipython3",
   "version": "3.7.6"
  }
 },
 "nbformat": 4,
 "nbformat_minor": 4
}
