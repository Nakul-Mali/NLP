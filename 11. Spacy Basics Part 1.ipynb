{
 "cells": [
  {
   "cell_type": "code",
   "execution_count": 1,
   "metadata": {},
   "outputs": [],
   "source": [
    "import spacy "
   ]
  },
  {
   "cell_type": "code",
   "execution_count": 2,
   "metadata": {},
   "outputs": [],
   "source": [
    "import en_core_web_sm "
   ]
  },
  {
   "cell_type": "code",
   "execution_count": 3,
   "metadata": {},
   "outputs": [],
   "source": [
    "nlp = en_core_web_sm.load() "
   ]
  },
  {
   "cell_type": "code",
   "execution_count": 4,
   "metadata": {},
   "outputs": [],
   "source": [
    "doc = nlp(u'Tesla is looking for buying U.S. base startup arund $6 million Dollers.')"
   ]
  },
  {
   "cell_type": "code",
   "execution_count": 5,
   "metadata": {},
   "outputs": [
    {
     "name": "stdout",
     "output_type": "stream",
     "text": [
      "Tesla | is | looking | for | buying | U.S. | base | startup | arund | $ | 6 | million | Dollers | . | "
     ]
    }
   ],
   "source": [
    "for token in doc:\n",
    "    print(token,end=' | ') "
   ]
  },
  {
   "cell_type": "code",
   "execution_count": 6,
   "metadata": {},
   "outputs": [
    {
     "name": "stdout",
     "output_type": "stream",
     "text": [
      "Tesla\n",
      "is\n",
      "looking\n",
      "for\n",
      "buying\n",
      "U.S.\n",
      "base\n",
      "startup\n",
      "arund\n",
      "$\n",
      "6\n",
      "million\n",
      "Dollers\n",
      ".\n"
     ]
    }
   ],
   "source": [
    "for token in doc:\n",
    "    print(token.text) "
   ]
  },
  {
   "cell_type": "code",
   "execution_count": 7,
   "metadata": {},
   "outputs": [
    {
     "name": "stdout",
     "output_type": "stream",
     "text": [
      "Tesla 96\n",
      "is 87\n",
      "looking 100\n",
      "for 85\n",
      "buying 100\n",
      "U.S. 96\n",
      "base 92\n",
      "startup 92\n",
      "arund 100\n",
      "$ 99\n",
      "6 93\n",
      "million 93\n",
      "Dollers 92\n",
      ". 97\n"
     ]
    }
   ],
   "source": [
    "for token in doc:\n",
    "    print(token.text,token.pos) "
   ]
  },
  {
   "cell_type": "code",
   "execution_count": 8,
   "metadata": {},
   "outputs": [
    {
     "name": "stdout",
     "output_type": "stream",
     "text": [
      "Tesla PROPN\n",
      "is AUX\n",
      "looking VERB\n",
      "for ADP\n",
      "buying VERB\n",
      "U.S. PROPN\n",
      "base NOUN\n",
      "startup NOUN\n",
      "arund VERB\n",
      "$ SYM\n",
      "6 NUM\n",
      "million NUM\n",
      "Dollers NOUN\n",
      ". PUNCT\n"
     ]
    }
   ],
   "source": [
    "for token in doc:\n",
    "    print(token,token.pos_) "
   ]
  },
  {
   "cell_type": "markdown",
   "metadata": {},
   "source": [
    "#### Sentectic Dependecies"
   ]
  },
  {
   "cell_type": "code",
   "execution_count": 9,
   "metadata": {},
   "outputs": [
    {
     "name": "stdout",
     "output_type": "stream",
     "text": [
      "Tesla 429\n",
      "is 405\n",
      "looking 8206900633647566924\n",
      "for 443\n",
      "buying 438\n",
      "U.S. 7037928807040764755\n",
      "base 7037928807040764755\n",
      "startup 7037928807040764755\n",
      "arund 3965108062993911700\n",
      "$ 446\n",
      "6 7037928807040764755\n",
      "million 12837356684637874264\n",
      "Dollers 416\n",
      ". 445\n"
     ]
    }
   ],
   "source": [
    "for token in doc:\n",
    "    print(token,token.dep) "
   ]
  },
  {
   "cell_type": "code",
   "execution_count": 10,
   "metadata": {},
   "outputs": [
    {
     "name": "stdout",
     "output_type": "stream",
     "text": [
      "Tesla nsubj\n",
      "is aux\n",
      "looking ROOT\n",
      "for prep\n",
      "buying pcomp\n",
      "U.S. compound\n",
      "base compound\n",
      "startup compound\n",
      "arund dative\n",
      "$ quantmod\n",
      "6 compound\n",
      "million nummod\n",
      "Dollers dobj\n",
      ". punct\n"
     ]
    }
   ],
   "source": [
    "for token in doc:\n",
    "    print(token,token.dep_) "
   ]
  },
  {
   "cell_type": "markdown",
   "metadata": {},
   "source": [
    "#### Pipeline"
   ]
  },
  {
   "cell_type": "code",
   "execution_count": 11,
   "metadata": {},
   "outputs": [
    {
     "data": {
      "text/plain": [
       "[('tagger', <spacy.pipeline.pipes.Tagger at 0x1f33fad2c48>),\n",
       " ('parser', <spacy.pipeline.pipes.DependencyParser at 0x1f33e4e83a8>),\n",
       " ('ner', <spacy.pipeline.pipes.EntityRecognizer at 0x1f33e4e8468>)]"
      ]
     },
     "execution_count": 11,
     "metadata": {},
     "output_type": "execute_result"
    }
   ],
   "source": [
    "nlp.pipeline "
   ]
  },
  {
   "cell_type": "code",
   "execution_count": 12,
   "metadata": {},
   "outputs": [
    {
     "data": {
      "text/plain": [
       "['tagger', 'parser', 'ner']"
      ]
     },
     "execution_count": 12,
     "metadata": {},
     "output_type": "execute_result"
    }
   ],
   "source": [
    "nlp.pipe_names "
   ]
  },
  {
   "cell_type": "code",
   "execution_count": null,
   "metadata": {},
   "outputs": [],
   "source": []
  }
 ],
 "metadata": {
  "kernelspec": {
   "display_name": "Python 3",
   "language": "python",
   "name": "python3"
  },
  "language_info": {
   "codemirror_mode": {
    "name": "ipython",
    "version": 3
   },
   "file_extension": ".py",
   "mimetype": "text/x-python",
   "name": "python",
   "nbconvert_exporter": "python",
   "pygments_lexer": "ipython3",
   "version": "3.7.6"
  }
 },
 "nbformat": 4,
 "nbformat_minor": 4
}
