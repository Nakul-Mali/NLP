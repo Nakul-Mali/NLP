{
 "cells": [
  {
   "cell_type": "markdown",
   "metadata": {},
   "source": [
    "String printing using format function and f"
   ]
  },
  {
   "cell_type": "code",
   "execution_count": 1,
   "metadata": {},
   "outputs": [],
   "source": [
    "name = 'Nakul'"
   ]
  },
  {
   "cell_type": "code",
   "execution_count": 2,
   "metadata": {},
   "outputs": [
    {
     "name": "stdout",
     "output_type": "stream",
     "text": [
      "My name is  Nakul\n"
     ]
    }
   ],
   "source": [
    "print('My name is ',name)"
   ]
  },
  {
   "cell_type": "code",
   "execution_count": 3,
   "metadata": {},
   "outputs": [
    {
     "name": "stdout",
     "output_type": "stream",
     "text": [
      "My name is Nakul\n"
     ]
    }
   ],
   "source": [
    "print('My name is {}'.format(name)) "
   ]
  },
  {
   "cell_type": "code",
   "execution_count": 5,
   "metadata": {},
   "outputs": [
    {
     "name": "stdout",
     "output_type": "stream",
     "text": [
      "My name is Nakul\n"
     ]
    }
   ],
   "source": [
    "print(f'My name is {name}') "
   ]
  },
  {
   "cell_type": "code",
   "execution_count": 7,
   "metadata": {},
   "outputs": [],
   "source": [
    "name = 'Nakul'\n",
    "sname = 'Mali'"
   ]
  },
  {
   "cell_type": "code",
   "execution_count": 8,
   "metadata": {},
   "outputs": [
    {
     "ename": "SyntaxError",
     "evalue": "invalid syntax (<ipython-input-8-a93d936fe854>, line 1)",
     "output_type": "error",
     "traceback": [
      "\u001b[1;36m  File \u001b[1;32m\"<ipython-input-8-a93d936fe854>\"\u001b[1;36m, line \u001b[1;32m1\u001b[0m\n\u001b[1;33m    print('My Name is',name'and sirname is',sname)\u001b[0m\n\u001b[1;37m                                          ^\u001b[0m\n\u001b[1;31mSyntaxError\u001b[0m\u001b[1;31m:\u001b[0m invalid syntax\n"
     ]
    }
   ],
   "source": [
    "print('My Name is',name'and sirname is',sname) "
   ]
  },
  {
   "cell_type": "code",
   "execution_count": 9,
   "metadata": {},
   "outputs": [
    {
     "name": "stdout",
     "output_type": "stream",
     "text": [
      "My Name is Nakul and Sir Name is Mali\n"
     ]
    }
   ],
   "source": [
    "print('My Name is {} and Sir Name is {}'.format(name,sname)) "
   ]
  },
  {
   "cell_type": "code",
   "execution_count": 11,
   "metadata": {},
   "outputs": [
    {
     "name": "stdout",
     "output_type": "stream",
     "text": [
      "My Name is Nakul and Sir Name is Mali\n"
     ]
    }
   ],
   "source": [
    "print(f'My Name is {name} and Sir Name is {sname}') "
   ]
  },
  {
   "cell_type": "markdown",
   "metadata": {},
   "source": [
    "#### Retrive data form list"
   ]
  },
  {
   "cell_type": "code",
   "execution_count": 14,
   "metadata": {},
   "outputs": [],
   "source": [
    "spam = ['Swap','Peter','Nks','Ashu'] "
   ]
  },
  {
   "cell_type": "code",
   "execution_count": 15,
   "metadata": {},
   "outputs": [
    {
     "name": "stdout",
     "output_type": "stream",
     "text": [
      "My Name is Nks\n"
     ]
    }
   ],
   "source": [
    "print('My Name is {}'.format(spam[2])) "
   ]
  },
  {
   "cell_type": "code",
   "execution_count": 16,
   "metadata": {},
   "outputs": [
    {
     "name": "stdout",
     "output_type": "stream",
     "text": [
      "My Name is Nks\n"
     ]
    }
   ],
   "source": [
    "print(f'My Name is {spam[2]}') "
   ]
  },
  {
   "cell_type": "markdown",
   "metadata": {},
   "source": [
    "#### Retrive data from dictionary"
   ]
  },
  {
   "cell_type": "code",
   "execution_count": 17,
   "metadata": {},
   "outputs": [],
   "source": [
    "dict = {'var1':'Swap','var2':'Nks','var3':'Digu'} "
   ]
  },
  {
   "cell_type": "code",
   "execution_count": 18,
   "metadata": {},
   "outputs": [
    {
     "data": {
      "text/plain": [
       "'Nks'"
      ]
     },
     "execution_count": 18,
     "metadata": {},
     "output_type": "execute_result"
    }
   ],
   "source": [
    "dict['var2'] "
   ]
  },
  {
   "cell_type": "code",
   "execution_count": 19,
   "metadata": {},
   "outputs": [
    {
     "name": "stdout",
     "output_type": "stream",
     "text": [
      "My Name is Nks\n"
     ]
    }
   ],
   "source": [
    "print('My Name is {}'.format(dict['var2'])) "
   ]
  },
  {
   "cell_type": "code",
   "execution_count": 21,
   "metadata": {},
   "outputs": [
    {
     "name": "stdout",
     "output_type": "stream",
     "text": [
      "My Name is Nks\n"
     ]
    }
   ],
   "source": [
    "print(f\"My Name is {dict['var2']}\")  "
   ]
  },
  {
   "cell_type": "code",
   "execution_count": null,
   "metadata": {},
   "outputs": [],
   "source": []
  },
  {
   "cell_type": "code",
   "execution_count": 22,
   "metadata": {},
   "outputs": [],
   "source": [
    "college = [('Name','Branch','Year'),('Swap','CSE','2'),('Nks','ENTC','4'),('Digu','MEC','3')] "
   ]
  },
  {
   "cell_type": "code",
   "execution_count": 23,
   "metadata": {},
   "outputs": [
    {
     "name": "stdout",
     "output_type": "stream",
     "text": [
      "[('Name', 'Branch', 'Year'), ('Swap', 'CSE', '2'), ('Nks', 'ENTC', '4'), ('Digu', 'MEC', '3')]\n"
     ]
    }
   ],
   "source": [
    "print(college) "
   ]
  },
  {
   "cell_type": "code",
   "execution_count": 24,
   "metadata": {},
   "outputs": [
    {
     "name": "stdout",
     "output_type": "stream",
     "text": [
      "('Name', 'Branch', 'Year')\n",
      "('Swap', 'CSE', '2')\n",
      "('Nks', 'ENTC', '4')\n",
      "('Digu', 'MEC', '3')\n"
     ]
    }
   ],
   "source": [
    "for i in college:\n",
    "    print(i)"
   ]
  },
  {
   "cell_type": "code",
   "execution_count": 25,
   "metadata": {},
   "outputs": [
    {
     "name": "stdout",
     "output_type": "stream",
     "text": [
      "Student Name is Name\n",
      "Student Name is Swap\n",
      "Student Name is Nks\n",
      "Student Name is Digu\n"
     ]
    }
   ],
   "source": [
    "for i in college:\n",
    "    print(f'Student Name is {i[0]}') "
   ]
  },
  {
   "cell_type": "code",
   "execution_count": 26,
   "metadata": {},
   "outputs": [
    {
     "name": "stdout",
     "output_type": "stream",
     "text": [
      "Student Name = Name, Branch is Branch, and Studdied in Year year of Engg\n",
      "Student Name = Swap, Branch is CSE, and Studdied in 2 year of Engg\n",
      "Student Name = Nks, Branch is ENTC, and Studdied in 4 year of Engg\n",
      "Student Name = Digu, Branch is MEC, and Studdied in 3 year of Engg\n"
     ]
    }
   ],
   "source": [
    "for i in college:\n",
    "    print(f\"Student Name = {i[0]}, Branch is {i[1]}, and Studdied in {i[2]} year of Engg\")"
   ]
  },
  {
   "cell_type": "code",
   "execution_count": 27,
   "metadata": {},
   "outputs": [
    {
     "name": "stdout",
     "output_type": "stream",
     "text": [
      "Name is = Name\n",
      "Name is = Swap\n",
      "Name is = Nks\n",
      "Name is = Digu\n"
     ]
    }
   ],
   "source": [
    "for Name,Branch,Year in college:\n",
    "    print(f\"Name is = {Name}\") "
   ]
  },
  {
   "cell_type": "code",
   "execution_count": 28,
   "metadata": {},
   "outputs": [
    {
     "name": "stdout",
     "output_type": "stream",
     "text": [
      "Name Branch Year\n",
      "Swap CSE 2\n",
      "Nks ENTC 4\n",
      "Digu MEC 3\n"
     ]
    }
   ],
   "source": [
    "for Name,Branch,Year in college:\n",
    "    print(f\"{Name} {Branch} {Year}\") "
   ]
  },
  {
   "cell_type": "code",
   "execution_count": 29,
   "metadata": {},
   "outputs": [
    {
     "name": "stdout",
     "output_type": "stream",
     "text": [
      "Name  Branch Year\n",
      "Swap  CSE   2   \n",
      "Nks   ENTC  4   \n",
      "Digu  MEC   3   \n"
     ]
    }
   ],
   "source": [
    "for Name,Branch,Year in college:\n",
    "    print(f\"{Name:{5}} {Branch:{5}} {Year:{4}}\") "
   ]
  },
  {
   "cell_type": "code",
   "execution_count": null,
   "metadata": {},
   "outputs": [],
   "source": []
  }
 ],
 "metadata": {
  "kernelspec": {
   "display_name": "Python 3",
   "language": "python",
   "name": "python3"
  },
  "language_info": {
   "codemirror_mode": {
    "name": "ipython",
    "version": 3
   },
   "file_extension": ".py",
   "mimetype": "text/x-python",
   "name": "python",
   "nbconvert_exporter": "python",
   "pygments_lexer": "ipython3",
   "version": "3.7.7"
  }
 },
 "nbformat": 4,
 "nbformat_minor": 4
}
